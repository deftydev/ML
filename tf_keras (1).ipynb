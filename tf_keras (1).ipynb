{
  "nbformat": 4,
  "nbformat_minor": 0,
  "metadata": {
    "colab": {
      "provenance": []
    },
    "kernelspec": {
      "name": "python3",
      "display_name": "Python 3"
    },
    "language_info": {
      "name": "python"
    },
    "accelerator": "GPU",
    "gpuClass": "standard"
  },
  "cells": [
    {
      "cell_type": "code",
      "execution_count": 61,
      "metadata": {
        "id": "rl7a_CvRXUwj"
      },
      "outputs": [],
      "source": [
        "import tensorflow as tf\n",
        "import numpy as np\n",
        "import pandas as pd\n",
        "import seaborn as sns\n",
        "import matplotlib.pyplot as plt \n",
        "%matplotlib inline\n"
      ]
    },
    {
      "cell_type": "code",
      "source": [
        "tf.__version__"
      ],
      "metadata": {
        "colab": {
          "base_uri": "https://localhost:8080/",
          "height": 35
        },
        "id": "mY5NedyvX6f5",
        "outputId": "f9ad2ff2-9eef-4314-fc21-b6975eaecde4"
      },
      "execution_count": 3,
      "outputs": [
        {
          "output_type": "execute_result",
          "data": {
            "text/plain": [
              "'2.12.0'"
            ],
            "application/vnd.google.colaboratory.intrinsic+json": {
              "type": "string"
            }
          },
          "metadata": {},
          "execution_count": 3
        }
      ]
    },
    {
      "cell_type": "code",
      "source": [
        "tf.keras.__version__"
      ],
      "metadata": {
        "colab": {
          "base_uri": "https://localhost:8080/",
          "height": 35
        },
        "id": "0Cg-ac1UX6iI",
        "outputId": "8d259a86-b233-45de-8d1a-e7755f4d8b3b"
      },
      "execution_count": 4,
      "outputs": [
        {
          "output_type": "execute_result",
          "data": {
            "text/plain": [
              "'2.12.0'"
            ],
            "application/vnd.google.colaboratory.intrinsic+json": {
              "type": "string"
            }
          },
          "metadata": {},
          "execution_count": 4
        }
      ]
    },
    {
      "cell_type": "code",
      "source": [
        "tf.config.list_physical_devices('GPU')"
      ],
      "metadata": {
        "colab": {
          "base_uri": "https://localhost:8080/"
        },
        "id": "tFyzvKCRX6kE",
        "outputId": "37000933-0e6b-4d22-eeb9-c1df94738345"
      },
      "execution_count": 5,
      "outputs": [
        {
          "output_type": "execute_result",
          "data": {
            "text/plain": [
              "[PhysicalDevice(name='/physical_device:GPU:0', device_type='GPU')]"
            ]
          },
          "metadata": {},
          "execution_count": 5
        }
      ]
    },
    {
      "cell_type": "code",
      "source": [
        "import os"
      ],
      "metadata": {
        "id": "hK8rlmsmX6ma"
      },
      "execution_count": 62,
      "outputs": []
    },
    {
      "cell_type": "code",
      "source": [
        "mnist= tf.keras.datasets.mnist"
      ],
      "metadata": {
        "id": "AXlUJ38kX6os"
      },
      "execution_count": 63,
      "outputs": []
    },
    {
      "cell_type": "code",
      "source": [
        "(X_trian_full, Y_train_full) ,(X_test,Y_test) = mnist.load_data()"
      ],
      "metadata": {
        "id": "iRt8t05YX6sO"
      },
      "execution_count": 65,
      "outputs": []
    },
    {
      "cell_type": "code",
      "source": [
        "X_trian_full.shape"
      ],
      "metadata": {
        "colab": {
          "base_uri": "https://localhost:8080/"
        },
        "id": "cqs2IO7RYgq5",
        "outputId": "65bc8a70-128b-4e55-af5e-09240d4c0a00"
      },
      "execution_count": 66,
      "outputs": [
        {
          "output_type": "execute_result",
          "data": {
            "text/plain": [
              "(60000, 28, 28)"
            ]
          },
          "metadata": {},
          "execution_count": 66
        }
      ]
    },
    {
      "cell_type": "code",
      "source": [
        "X_trian_full.dtype"
      ],
      "metadata": {
        "colab": {
          "base_uri": "https://localhost:8080/"
        },
        "id": "Jn8y6S0OYgtQ",
        "outputId": "8adb307b-ee07-47f4-fa35-c4026c05a5e4"
      },
      "execution_count": 10,
      "outputs": [
        {
          "output_type": "execute_result",
          "data": {
            "text/plain": [
              "dtype('uint8')"
            ]
          },
          "metadata": {},
          "execution_count": 10
        }
      ]
    },
    {
      "cell_type": "markdown",
      "source": [
        "\n",
        "mnist data contain data of handwritten digits in 2d array form with annot (annot means it will dsplay 0 to 1 values , 1 for dark black color \n",
        "                                                                           and zero for white color)\n",
        "> Indented block\n",
        "\n"
      ],
      "metadata": {
        "id": "mYX-PhV-vbiW"
      }
    },
    {
      "cell_type": "code",
      "source": [
        "X_valid, X_train = X_trian_full[: 5000] / 255., X_trian_full[5000: ]/255.\n",
        "y_valid, y_train = Y_train_full[: 5000], Y_train_full[5000:]\n",
        "\n",
        "X_test = X_test/255."
      ],
      "metadata": {
        "id": "lKbM-ULUYgyG"
      },
      "execution_count": 67,
      "outputs": []
    },
    {
      "cell_type": "code",
      "source": [
        "plt.imshow(X_train[0], cmap=\"binary\")\n",
        "\n",
        "plt.show()\n"
      ],
      "metadata": {
        "colab": {
          "base_uri": "https://localhost:8080/",
          "height": 430
        },
        "id": "84PAtqiSYg0U",
        "outputId": "b7493dde-8d9c-4949-8b90-121073297238"
      },
      "execution_count": 68,
      "outputs": [
        {
          "output_type": "display_data",
          "data": {
            "text/plain": [
              "<Figure size 640x480 with 1 Axes>"
            ],
            "image/png": "[encoded data removed]"
          },
          "metadata": {}
        }
      ]
    },
    {
      "cell_type": "code",
      "source": [
        "import seaborn as sns\n",
        "plt.figure(figsize=(8,8))\n",
        "sns.heatmap(X_train[0], annot=True, cmap=\"binary\")"
      ],
      "metadata": {
        "id": "yzEOjep8Yg2u",
        "colab": {
          "base_uri": "https://localhost:8080/",
          "height": 697
        },
        "outputId": "4a2e1be0-9f49-41ea-f2ab-1ca04f0b7585"
      },
      "execution_count": 53,
      "outputs": [
        {
          "output_type": "execute_result",
          "data": {
            "text/plain": [
              "<Axes: >"
            ]
          },
          "metadata": {},
          "execution_count": 53
        },
        {
          "output_type": "display_data",
          "data": {
            "text/plain": [
              "<Figure size 800x800 with 2 Axes>"
            ],
            "image/png": "[encoded data removed]"
          },
          "metadata": {}
        }
      ]
    },
    {
      "cell_type": "markdown",
      "source": [
        "**Writing samples to Tensorboard**"
      ],
      "metadata": {
        "id": "vK2nod-kaJuK"
      }
    },
    {
      "cell_type": "code",
      "source": [
        "## Get unique timestamp\n",
        "\n",
        "import time\n",
        "\n",
        "def get_timestamp():\n",
        "  return time.asctime().replace(\" \", \"_\").replace(\":\", \"\")"
      ],
      "metadata": {
        "id": "rwtFmGOfaIWu"
      },
      "execution_count": 14,
      "outputs": []
    },
    {
      "cell_type": "code",
      "source": [
        "def get_log_dir_path(log_dir=\"logs/fit\"):\n",
        "  log_path = os.path.join(log_dir, get_timestamp())\n",
        "  print(f\"logs will be saved at: {log_path}\")\n",
        "  return log_path"
      ],
      "metadata": {
        "id": "BgJxZTiuaIY2"
      },
      "execution_count": 15,
      "outputs": []
    },
    {
      "cell_type": "code",
      "source": [
        "log_dir = get_log_dir_path()\n",
        "file_writer = tf.summary.create_file_writer(logdir=log_dir)"
      ],
      "metadata": {
        "colab": {
          "base_uri": "https://localhost:8080/"
        },
        "id": "u0JJ6WBdaIbV",
        "outputId": "6a554c77-6ec9-44b8-bfa0-976f6fe87b01"
      },
      "execution_count": 16,
      "outputs": [
        {
          "output_type": "stream",
          "name": "stdout",
          "text": [
            "logs will be saved at: logs/fit/Tue_Apr__4_060326_2023\n"
          ]
        }
      ]
    },
    {
      "cell_type": "code",
      "source": [
        "with file_writer.as_default():\n",
        "  images =  np.reshape(X_train[10:30],(-1,28,28,1))\n",
        "  tf.summary.image(\"20 handwritten digits sample\",images,max_outputs=25,step=0)"
      ],
      "metadata": {
        "id": "87-QCmUvaIeF"
      },
      "execution_count": 17,
      "outputs": []
    },
    {
      "cell_type": "code",
      "source": [
        "%load_ext tensorboard"
      ],
      "metadata": {
        "id": "CZJSuJ3EaIhA"
      },
      "execution_count": 18,
      "outputs": []
    },
    {
      "cell_type": "code",
      "source": [
        "%tensorboard --logdir logs/fit"
      ],
      "metadata": {
        "id": "nULFW91RiLM6"
      },
      "execution_count": null,
      "outputs": []
    },
    {
      "cell_type": "code",
      "source": [
        "Layers=[\n",
        "    tf.keras.layers.Flatten(input_shape=[28 , 28] , name='inputlayer'),\n",
        "    tf.keras.layers.Dense(300 , activation=\"relu\", name=\"hiddenlayer1\"),\n",
        "    tf.keras.layers.Dense(100 , activation=\"relu\", name=\"hiddenlayer2\"),\n",
        "    tf.keras.layers.Dense(10 , activation=\"relu\", name=\"outputlayer\"),\n",
        "]"
      ],
      "metadata": {
        "id": "fbxY8viwYg5f"
      },
      "execution_count": 54,
      "outputs": []
    },
    {
      "cell_type": "code",
      "source": [
        "model = tf.keras.models.Sequential(Layers)\n"
      ],
      "metadata": {
        "id": "5pE9aHjIYg80"
      },
      "execution_count": 55,
      "outputs": []
    },
    {
      "cell_type": "code",
      "source": [
        "model.layers"
      ],
      "metadata": {
        "colab": {
          "base_uri": "https://localhost:8080/"
        },
        "id": "nV2U3wqPutJL",
        "outputId": "df47fc16-ff4d-4b4e-cdc4-4a8a13e9bc2e"
      },
      "execution_count": 56,
      "outputs": [
        {
          "output_type": "execute_result",
          "data": {
            "text/plain": [
              "[<keras.layers.reshaping.flatten.Flatten at 0x7f9dd5a577c0>,\n",
              " <keras.layers.core.dense.Dense at 0x7f9dd53048b0>,\n",
              " <keras.layers.core.dense.Dense at 0x7f9dd5304fd0>,\n",
              " <keras.layers.core.dense.Dense at 0x7f9dd52c90d0>]"
            ]
          },
          "metadata": {},
          "execution_count": 56
        }
      ]
    },
    {
      "cell_type": "code",
      "source": [
        "model.summary()"
      ],
      "metadata": {
        "colab": {
          "base_uri": "https://localhost:8080/"
        },
        "id": "Rm33DR5sutLb",
        "outputId": "0ec6c5a5-65f0-4b24-e0e7-febe2fb5e556"
      },
      "execution_count": 23,
      "outputs": [
        {
          "output_type": "stream",
          "name": "stdout",
          "text": [
            "Model: \"sequential\"\n",
            "_________________________________________________________________\n",
            " Layer (type)                Output Shape              Param #   \n",
            "=================================================================\n",
            " inputlayer (Flatten)        (None, 784)               0         \n",
            "                                                                 \n",
            " hiddenlayer1 (Dense)        (None, 300)               235500    \n",
            "                                                                 \n",
            " hiddenlayer2 (Dense)        (None, 100)               30100     \n",
            "                                                                 \n",
            " outputlayer (Dense)         (None, 10)                1010      \n",
            "                                                                 \n",
            "=================================================================\n",
            "Total params: 266,610\n",
            "Trainable params: 266,610\n",
            "Non-trainable params: 0\n",
            "_________________________________________________________________\n"
          ]
        }
      ]
    },
    {
      "cell_type": "code",
      "source": [
        "784 * 300 +300 , 300*100+100 , 100*10+10"
      ],
      "metadata": {
        "colab": {
          "base_uri": "https://localhost:8080/"
        },
        "id": "KKCyz2qmutOM",
        "outputId": "7b4c1c9c-122f-4231-c685-4443e1bee0a8"
      },
      "execution_count": 24,
      "outputs": [
        {
          "output_type": "execute_result",
          "data": {
            "text/plain": [
              "(235500, 30100, 1010)"
            ]
          },
          "metadata": {},
          "execution_count": 24
        }
      ]
    },
    {
      "cell_type": "markdown",
      "source": [
        "235500 + 30100 +1010 ===Total params"
      ],
      "metadata": {
        "id": "EbUEH0hPZyqa"
      }
    },
    {
      "cell_type": "code",
      "source": [
        "hidden1= model.layers[1]\n",
        "model.get_layer(hidden1.name)"
      ],
      "metadata": {
        "colab": {
          "base_uri": "https://localhost:8080/"
        },
        "id": "i4TUkmeYvC_M",
        "outputId": "0234ac58-4fab-481d-feeb-c4bc5ab9a2d5"
      },
      "execution_count": 57,
      "outputs": [
        {
          "output_type": "execute_result",
          "data": {
            "text/plain": [
              "<keras.layers.core.dense.Dense at 0x7f9dd53048b0>"
            ]
          },
          "metadata": {},
          "execution_count": 57
        }
      ]
    },
    {
      "cell_type": "code",
      "source": [
        "hidden1.get_weights()"
      ],
      "metadata": {
        "colab": {
          "base_uri": "https://localhost:8080/"
        },
        "id": "9m9Y96zNvDBi",
        "outputId": "9c0ebb3b-e753-4120-83e5-024f93f533ca"
      },
      "execution_count": 26,
      "outputs": [
        {
          "output_type": "execute_result",
          "data": {
            "text/plain": [
              "[array([[-0.03408357, -0.03552195, -0.07240301, ...,  0.00316624,\n",
              "         -0.06407326, -0.0238202 ],\n",
              "        [-0.04843367, -0.01410745, -0.02834424, ..., -0.01075649,\n",
              "         -0.06893484,  0.02768631],\n",
              "        [-0.00559209,  0.01451916, -0.06587848, ..., -0.04176202,\n",
              "         -0.06864592,  0.05019947],\n",
              "        ...,\n",
              "        [-0.02179541, -0.03389406, -0.06578997, ..., -0.0576203 ,\n",
              "         -0.0267914 ,  0.03394218],\n",
              "        [-0.02560074, -0.07413916,  0.06991872, ..., -0.01782209,\n",
              "         -0.04854886,  0.04249339],\n",
              "        [ 0.04623858, -0.03937832, -0.04219371, ...,  0.00682554,\n",
              "          0.05289932,  0.06880525]], dtype=float32),\n",
              " array([0., 0., 0., 0., 0., 0., 0., 0., 0., 0., 0., 0., 0., 0., 0., 0., 0.,\n",
              "        0., 0., 0., 0., 0., 0., 0., 0., 0., 0., 0., 0., 0., 0., 0., 0., 0.,\n",
              "        0., 0., 0., 0., 0., 0., 0., 0., 0., 0., 0., 0., 0., 0., 0., 0., 0.,\n",
              "        0., 0., 0., 0., 0., 0., 0., 0., 0., 0., 0., 0., 0., 0., 0., 0., 0.,\n",
              "        0., 0., 0., 0., 0., 0., 0., 0., 0., 0., 0., 0., 0., 0., 0., 0., 0.,\n",
              "        0., 0., 0., 0., 0., 0., 0., 0., 0., 0., 0., 0., 0., 0., 0., 0., 0.,\n",
              "        0., 0., 0., 0., 0., 0., 0., 0., 0., 0., 0., 0., 0., 0., 0., 0., 0.,\n",
              "        0., 0., 0., 0., 0., 0., 0., 0., 0., 0., 0., 0., 0., 0., 0., 0., 0.,\n",
              "        0., 0., 0., 0., 0., 0., 0., 0., 0., 0., 0., 0., 0., 0., 0., 0., 0.,\n",
              "        0., 0., 0., 0., 0., 0., 0., 0., 0., 0., 0., 0., 0., 0., 0., 0., 0.,\n",
              "        0., 0., 0., 0., 0., 0., 0., 0., 0., 0., 0., 0., 0., 0., 0., 0., 0.,\n",
              "        0., 0., 0., 0., 0., 0., 0., 0., 0., 0., 0., 0., 0., 0., 0., 0., 0.,\n",
              "        0., 0., 0., 0., 0., 0., 0., 0., 0., 0., 0., 0., 0., 0., 0., 0., 0.,\n",
              "        0., 0., 0., 0., 0., 0., 0., 0., 0., 0., 0., 0., 0., 0., 0., 0., 0.,\n",
              "        0., 0., 0., 0., 0., 0., 0., 0., 0., 0., 0., 0., 0., 0., 0., 0., 0.,\n",
              "        0., 0., 0., 0., 0., 0., 0., 0., 0., 0., 0., 0., 0., 0., 0., 0., 0.,\n",
              "        0., 0., 0., 0., 0., 0., 0., 0., 0., 0., 0., 0., 0., 0., 0., 0., 0.,\n",
              "        0., 0., 0., 0., 0., 0., 0., 0., 0., 0., 0.], dtype=float32)]"
            ]
          },
          "metadata": {},
          "execution_count": 26
        }
      ]
    },
    {
      "cell_type": "code",
      "source": [
        "weights, biases = hidden1.get_weights()"
      ],
      "metadata": {
        "id": "rJ4XjjpUvDDX"
      },
      "execution_count": 58,
      "outputs": []
    },
    {
      "cell_type": "code",
      "source": [
        "weights.shape"
      ],
      "metadata": {
        "colab": {
          "base_uri": "https://localhost:8080/"
        },
        "id": "CjGdYrw-vDFw",
        "outputId": "6d32411a-faa2-40f7-a74c-86c87a336220"
      },
      "execution_count": 28,
      "outputs": [
        {
          "output_type": "execute_result",
          "data": {
            "text/plain": [
              "(784, 300)"
            ]
          },
          "metadata": {},
          "execution_count": 28
        }
      ]
    },
    {
      "cell_type": "code",
      "source": [
        "biases.shape"
      ],
      "metadata": {
        "colab": {
          "base_uri": "https://localhost:8080/"
        },
        "id": "n2SgctvRvDJL",
        "outputId": "e35a8293-2713-4f15-ef2a-f5265ceed521"
      },
      "execution_count": 29,
      "outputs": [
        {
          "output_type": "execute_result",
          "data": {
            "text/plain": [
              "(300,)"
            ]
          },
          "metadata": {},
          "execution_count": 29
        }
      ]
    },
    {
      "cell_type": "markdown",
      "source": [
        "loss_function(actual,pred)=error"
      ],
      "metadata": {
        "id": "mHBoWPK7vZEn"
      }
    },
    {
      "cell_type": "code",
      "source": [
        "LOSS_FUNCTION = \"sparse_categorical_crossentropy\"\n",
        "OPTIMIZER = \"SGD\"\n",
        "METRICS = [\"accuracy\"]\n",
        "\n",
        "model.compile(loss=LOSS_FUNCTION,\n",
        "              optimizer=OPTIMIZER,\n",
        "              metrics=METRICS)\n"
      ],
      "metadata": {
        "id": "pfkWj_84vZ66"
      },
      "execution_count": 59,
      "outputs": []
    },
    {
      "cell_type": "markdown",
      "source": [
        "callbacks"
      ],
      "metadata": {
        "id": "9hcTWkPtkDsc"
      }
    },
    {
      "cell_type": "code",
      "source": [
        "tensorboard_cb =tf.keras.callbacks.TensorBoard(log_dir=log_dir)"
      ],
      "metadata": {
        "id": "5NPgB4awkClp"
      },
      "execution_count": 31,
      "outputs": []
    },
    {
      "cell_type": "markdown",
      "source": [
        "early stopping"
      ],
      "metadata": {
        "id": "uTdvf8drkVPV"
      }
    },
    {
      "cell_type": "code",
      "source": [
        "early_stopping_cb=tf.keras.callbacks.EarlyStopping(patience=5, restore_best_weights=True)"
      ],
      "metadata": {
        "id": "Xr0T_pSXkCnx"
      },
      "execution_count": 32,
      "outputs": []
    },
    {
      "cell_type": "markdown",
      "source": [
        "Checkpoint callback"
      ],
      "metadata": {
        "id": "PsOEnTRGl-6w"
      }
    },
    {
      "cell_type": "code",
      "source": [
        "CKPT_Path = \"model_ckpt.h5\"\n",
        "\n",
        "checkpoint_cb = tf.keras.callbacks.ModelCheckpoint(CKPT_Path, save_best_only=True)"
      ],
      "metadata": {
        "id": "ZulcTCXvkCsj"
      },
      "execution_count": 33,
      "outputs": []
    },
    {
      "cell_type": "code",
      "source": [
        "LIST_OF_CALLBACKS = [tensorboard_cb, early_stopping_cb, checkpoint_cb]"
      ],
      "metadata": {
        "id": "qD5xReBukCv_"
      },
      "execution_count": 34,
      "outputs": []
    },
    {
      "cell_type": "markdown",
      "source": [
        "Epochs: Integer.\n",
        "\n",
        "Number of epochs to train the model. An epoch is an iteration over the entire x and y data provided.\n",
        "\n",
        "batch_size: Integer or None.\n",
        "\n",
        "Number of samples per gradient update. If unspecified, batch_size will default to 32.\n",
        "\n",
        "NOTE: Do not specify the batch_size if your data is in the form of datasets, generators, or keras.utils.Sequence instances (since they generate batches).\n",
        "\n",
        "validation_batch_size: Integer or None.\n",
        "\n",
        "Number of samples per validation batch.\n",
        "\n",
        "If unspecified, will default to batch_size.\n",
        "\n",
        "NOTE: Do not specify the validation_batch_size if your data is in the form of datasets, generators, or keras.utils.Sequence instances (since they generate batches)."
      ],
      "metadata": {
        "id": "gPkFX5ZJvs-C"
      }
    },
    {
      "cell_type": "code",
      "source": [
        "# EPOCHS = 30\n",
        "# VALIDATION_SET = (X_valid, y_valid)\n",
        "\n",
        "# history = model.fit(X_train, y_train, \n",
        "#                     epochs=EPOCHS, \n",
        "#                     validation_data=VALIDATION_SET)\n",
        "\n",
        "##create model with callbacks\n",
        "EPOCHS = 300\n",
        "VALIDATION_SET = (X_valid, y_valid)\n",
        "\n",
        "history = model.fit(X_train, y_train, \n",
        "                    epochs=EPOCHS, \n",
        "                    validation_data=VALIDATION_SET, callbacks=LIST_OF_CALLBACKS)"
      ],
      "metadata": {
        "colab": {
          "base_uri": "https://localhost:8080/"
        },
        "id": "IK30evi0vZ81",
        "outputId": "5c38ba12-e747-4b7b-e42e-6a5274b73afe"
      },
      "execution_count": 60,
      "outputs": [
        {
          "output_type": "stream",
          "name": "stdout",
          "text": [
            "Epoch 1/30\n",
            "1719/1719 [==============================] - 6s 3ms/step - loss: 7.8280 - accuracy: 0.0982 - val_loss: 8.3486 - val_accuracy: 0.0924\n",
            "Epoch 2/30\n",
            "1719/1719 [==============================] - 6s 3ms/step - loss: 8.2554 - accuracy: 0.0980 - val_loss: 8.3486 - val_accuracy: 0.0924\n",
            "Epoch 3/30\n",
            "1719/1719 [==============================] - 5s 3ms/step - loss: 8.2554 - accuracy: 0.0980 - val_loss: 8.3486 - val_accuracy: 0.0924\n",
            "Epoch 4/30\n",
            "1719/1719 [==============================] - 6s 3ms/step - loss: 8.2554 - accuracy: 0.0980 - val_loss: 8.3486 - val_accuracy: 0.0924\n",
            "Epoch 5/30\n",
            "1719/1719 [==============================] - 5s 3ms/step - loss: 8.2554 - accuracy: 0.0980 - val_loss: 8.3486 - val_accuracy: 0.0924\n",
            "Epoch 6/30\n",
            "1719/1719 [==============================] - 6s 3ms/step - loss: 8.2554 - accuracy: 0.0980 - val_loss: 8.3486 - val_accuracy: 0.0924\n",
            "Epoch 7/30\n",
            "1719/1719 [==============================] - 5s 3ms/step - loss: 8.2554 - accuracy: 0.0980 - val_loss: 8.3486 - val_accuracy: 0.0924\n",
            "Epoch 8/30\n",
            "1719/1719 [==============================] - 5s 3ms/step - loss: 8.2554 - accuracy: 0.0980 - val_loss: 8.3486 - val_accuracy: 0.0924\n",
            "Epoch 9/30\n",
            "1719/1719 [==============================] - 6s 3ms/step - loss: 8.2554 - accuracy: 0.0980 - val_loss: 8.3486 - val_accuracy: 0.0924\n",
            "Epoch 10/30\n",
            "1719/1719 [==============================] - 5s 3ms/step - loss: 8.2554 - accuracy: 0.0980 - val_loss: 8.3486 - val_accuracy: 0.0924\n",
            "Epoch 11/30\n",
            "1719/1719 [==============================] - 6s 3ms/step - loss: 8.2554 - accuracy: 0.0980 - val_loss: 8.3486 - val_accuracy: 0.0924\n",
            "Epoch 12/30\n",
            "1719/1719 [==============================] - 5s 3ms/step - loss: 8.2554 - accuracy: 0.0980 - val_loss: 8.3486 - val_accuracy: 0.0924\n",
            "Epoch 13/30\n",
            "1719/1719 [==============================] - 6s 4ms/step - loss: 8.2554 - accuracy: 0.0980 - val_loss: 8.3486 - val_accuracy: 0.0924\n",
            "Epoch 14/30\n",
            "1719/1719 [==============================] - 5s 3ms/step - loss: 8.2554 - accuracy: 0.0980 - val_loss: 8.3486 - val_accuracy: 0.0924\n",
            "Epoch 15/30\n",
            "1719/1719 [==============================] - 6s 3ms/step - loss: 8.2554 - accuracy: 0.0980 - val_loss: 8.3486 - val_accuracy: 0.0924\n",
            "Epoch 16/30\n",
            "1719/1719 [==============================] - 5s 3ms/step - loss: 8.2554 - accuracy: 0.0980 - val_loss: 8.3486 - val_accuracy: 0.0924\n",
            "Epoch 17/30\n",
            "1719/1719 [==============================] - 5s 3ms/step - loss: 8.2554 - accuracy: 0.0980 - val_loss: 8.3486 - val_accuracy: 0.0924\n",
            "Epoch 18/30\n",
            "1719/1719 [==============================] - 6s 3ms/step - loss: 8.2554 - accuracy: 0.0980 - val_loss: 8.3486 - val_accuracy: 0.0924\n",
            "Epoch 19/30\n",
            "1719/1719 [==============================] - 5s 3ms/step - loss: 8.2554 - accuracy: 0.0980 - val_loss: 8.3486 - val_accuracy: 0.0924\n",
            "Epoch 20/30\n",
            "1719/1719 [==============================] - 6s 3ms/step - loss: 8.2554 - accuracy: 0.0980 - val_loss: 8.3486 - val_accuracy: 0.0924\n",
            "Epoch 21/30\n",
            "1719/1719 [==============================] - 5s 3ms/step - loss: 8.2554 - accuracy: 0.0980 - val_loss: 8.3486 - val_accuracy: 0.0924\n",
            "Epoch 22/30\n",
            "1719/1719 [==============================] - 6s 3ms/step - loss: 8.2554 - accuracy: 0.0980 - val_loss: 8.3486 - val_accuracy: 0.0924\n",
            "Epoch 23/30\n",
            "1719/1719 [==============================] - 5s 3ms/step - loss: 8.2554 - accuracy: 0.0980 - val_loss: 8.3486 - val_accuracy: 0.0924\n",
            "Epoch 24/30\n",
            "1719/1719 [==============================] - 6s 3ms/step - loss: 8.2554 - accuracy: 0.0980 - val_loss: 8.3485 - val_accuracy: 0.0924\n",
            "Epoch 25/30\n",
            "1719/1719 [==============================] - 5s 3ms/step - loss: 8.2554 - accuracy: 0.0980 - val_loss: 8.3486 - val_accuracy: 0.0924\n",
            "Epoch 26/30\n",
            "1719/1719 [==============================] - 6s 3ms/step - loss: 8.2554 - accuracy: 0.0980 - val_loss: 8.3486 - val_accuracy: 0.0924\n",
            "Epoch 27/30\n",
            "1719/1719 [==============================] - 5s 3ms/step - loss: 8.2554 - accuracy: 0.0980 - val_loss: 8.3486 - val_accuracy: 0.0924\n",
            "Epoch 28/30\n",
            "1719/1719 [==============================] - 5s 3ms/step - loss: 8.2554 - accuracy: 0.0980 - val_loss: 8.3486 - val_accuracy: 0.0924\n",
            "Epoch 29/30\n",
            "1719/1719 [==============================] - 6s 3ms/step - loss: 8.2554 - accuracy: 0.0980 - val_loss: 8.3486 - val_accuracy: 0.0924\n",
            "Epoch 30/30\n",
            "1719/1719 [==============================] - 5s 3ms/step - loss: 8.2554 - accuracy: 0.0980 - val_loss: 8.3486 - val_accuracy: 0.0924\n"
          ]
        }
      ]
    },
    {
      "cell_type": "code",
      "source": [
        "model.evaluate(X_test, Y_test)"
      ],
      "metadata": {
        "colab": {
          "base_uri": "https://localhost:8080/"
        },
        "id": "sxOMXBrhvaAD",
        "outputId": "321dcabf-1a8e-44d0-fa30-1d6fb1efb2c0"
      },
      "execution_count": 44,
      "outputs": [
        {
          "output_type": "stream",
          "name": "stdout",
          "text": [
            "313/313 [==============================] - 1s 2ms/step - loss: 9.6604 - accuracy: 0.0980\n"
          ]
        },
        {
          "output_type": "execute_result",
          "data": {
            "text/plain": [
              "[9.660418510437012, 0.09799999743700027]"
            ]
          },
          "metadata": {},
          "execution_count": 44
        }
      ]
    },
    {
      "cell_type": "code",
      "source": [
        "model.save(\"model.h5\")\n"
      ],
      "metadata": {
        "id": "yRUrEnhPv_Qn"
      },
      "execution_count": 45,
      "outputs": []
    },
    {
      "cell_type": "code",
      "source": [
        "loaded_model = tf.keras.models.load_model(\"model.h5\")\n"
      ],
      "metadata": {
        "id": "wUGeQl8swtZE"
      },
      "execution_count": 46,
      "outputs": []
    },
    {
      "cell_type": "code",
      "source": [
        "loaded_model.evaluate(X_test, Y_test)"
      ],
      "metadata": {
        "colab": {
          "base_uri": "https://localhost:8080/"
        },
        "id": "VBslpbj5wDD2",
        "outputId": "448e7b33-cacc-4299-b0f3-004e034b3f63"
      },
      "execution_count": 47,
      "outputs": [
        {
          "output_type": "stream",
          "name": "stdout",
          "text": [
            "313/313 [==============================] - 1s 2ms/step - loss: 9.6604 - accuracy: 0.0980\n"
          ]
        },
        {
          "output_type": "execute_result",
          "data": {
            "text/plain": [
              "[9.660418510437012, 0.09799999743700027]"
            ]
          },
          "metadata": {},
          "execution_count": 47
        }
      ]
    },
    {
      "cell_type": "code",
      "source": [
        "pd.DataFrame(history.history)"
      ],
      "metadata": {
        "colab": {
          "base_uri": "https://localhost:8080/",
          "height": 990
        },
        "id": "Odq2hOJNwDLG",
        "outputId": "1e84eba1-8a8b-4eed-8fbe-9044f6d52cec"
      },
      "execution_count": 48,
      "outputs": [
        {
          "output_type": "execute_result",
          "data": {
            "text/plain": [
              "        loss  accuracy  val_loss  val_accuracy\n",
              "0   9.699276  0.098982  9.936045        0.0958\n",
              "1   9.699275  0.098982  9.936045        0.0958\n",
              "2   9.699263  0.098982  9.936045        0.0958\n",
              "3   9.699275  0.098982  9.936045        0.0958\n",
              "4   9.699282  0.098982  9.936045        0.0958\n",
              "5   9.699279  0.098982  9.936045        0.0958\n",
              "6   9.699282  0.098982  9.936045        0.0958\n",
              "7   9.699275  0.098982  9.936045        0.0958\n",
              "8   9.699275  0.098982  9.936045        0.0958\n",
              "9   9.699283  0.098982  9.936045        0.0958\n",
              "10  9.699260  0.098982  9.936045        0.0958\n",
              "11  9.699277  0.098982  9.936045        0.0958\n",
              "12  9.699267  0.098982  9.936045        0.0958\n",
              "13  9.699274  0.098982  9.936045        0.0958\n",
              "14  9.699279  0.098982  9.936045        0.0958\n",
              "15  9.699268  0.098982  9.936045        0.0958\n",
              "16  9.699276  0.098982  9.936045        0.0958\n",
              "17  9.699277  0.098982  9.936045        0.0958\n",
              "18  9.699275  0.098982  9.936045        0.0958\n",
              "19  9.699269  0.098982  9.936045        0.0958\n",
              "20  9.699271  0.098982  9.936045        0.0958\n",
              "21  9.699277  0.098982  9.936045        0.0958\n",
              "22  9.699273  0.098982  9.936045        0.0958\n",
              "23  9.699279  0.098982  9.936045        0.0958\n",
              "24  9.699279  0.098982  9.936045        0.0958\n",
              "25  9.699270  0.098982  9.936045        0.0958\n",
              "26  9.699279  0.098982  9.936045        0.0958\n",
              "27  9.699275  0.098982  9.936045        0.0958\n",
              "28  9.699269  0.098982  9.936045        0.0958\n",
              "29  9.699277  0.098982  9.936045        0.0958"
            ],
            "text/html": [
              "\n",
              "  <div id=\"df-72cf5e38-29e2-4a3c-82c9-a8c941f02375\">\n",
              "    <div class=\"colab-df-container\">\n",
              "      <div>\n",
              "<style scoped>\n",
              "    .dataframe tbody tr th:only-of-type {\n",
              "        vertical-align: middle;\n",
              "    }\n",
              "\n",
              "    .dataframe tbody tr th {\n",
              "        vertical-align: top;\n",
              "    }\n",
              "\n",
              "    .dataframe thead th {\n",
              "        text-align: right;\n",
              "    }\n",
              "</style>\n",
              "<table border=\"1\" class=\"dataframe\">\n",
              "  <thead>\n",
              "    <tr style=\"text-align: right;\">\n",
              "      <th></th>\n",
              "      <th>loss</th>\n",
              "      <th>accuracy</th>\n",
              "      <th>val_loss</th>\n",
              "      <th>val_accuracy</th>\n",
              "    </tr>\n",
              "  </thead>\n",
              "  <tbody>\n",
              "    <tr>\n",
              "      <th>0</th>\n",
              "      <td>9.699276</td>\n",
              "      <td>0.098982</td>\n",
              "      <td>9.936045</td>\n",
              "      <td>0.0958</td>\n",
              "    </tr>\n",
              "    <tr>\n",
              "      <th>1</th>\n",
              "      <td>9.699275</td>\n",
              "      <td>0.098982</td>\n",
              "      <td>9.936045</td>\n",
              "      <td>0.0958</td>\n",
              "    </tr>\n",
              "    <tr>\n",
              "      <th>2</th>\n",
              "      <td>9.699263</td>\n",
              "      <td>0.098982</td>\n",
              "      <td>9.936045</td>\n",
              "      <td>0.0958</td>\n",
              "    </tr>\n",
              "    <tr>\n",
              "      <th>3</th>\n",
              "      <td>9.699275</td>\n",
              "      <td>0.098982</td>\n",
              "      <td>9.936045</td>\n",
              "      <td>0.0958</td>\n",
              "    </tr>\n",
              "    <tr>\n",
              "      <th>4</th>\n",
              "      <td>9.699282</td>\n",
              "      <td>0.098982</td>\n",
              "      <td>9.936045</td>\n",
              "      <td>0.0958</td>\n",
              "    </tr>\n",
              "    <tr>\n",
              "      <th>5</th>\n",
              "      <td>9.699279</td>\n",
              "      <td>0.098982</td>\n",
              "      <td>9.936045</td>\n",
              "      <td>0.0958</td>\n",
              "    </tr>\n",
              "    <tr>\n",
              "      <th>6</th>\n",
              "      <td>9.699282</td>\n",
              "      <td>0.098982</td>\n",
              "      <td>9.936045</td>\n",
              "      <td>0.0958</td>\n",
              "    </tr>\n",
              "    <tr>\n",
              "      <th>7</th>\n",
              "      <td>9.699275</td>\n",
              "      <td>0.098982</td>\n",
              "      <td>9.936045</td>\n",
              "      <td>0.0958</td>\n",
              "    </tr>\n",
              "    <tr>\n",
              "      <th>8</th>\n",
              "      <td>9.699275</td>\n",
              "      <td>0.098982</td>\n",
              "      <td>9.936045</td>\n",
              "      <td>0.0958</td>\n",
              "    </tr>\n",
              "    <tr>\n",
              "      <th>9</th>\n",
              "      <td>9.699283</td>\n",
              "      <td>0.098982</td>\n",
              "      <td>9.936045</td>\n",
              "      <td>0.0958</td>\n",
              "    </tr>\n",
              "    <tr>\n",
              "      <th>10</th>\n",
              "      <td>9.699260</td>\n",
              "      <td>0.098982</td>\n",
              "      <td>9.936045</td>\n",
              "      <td>0.0958</td>\n",
              "    </tr>\n",
              "    <tr>\n",
              "      <th>11</th>\n",
              "      <td>9.699277</td>\n",
              "      <td>0.098982</td>\n",
              "      <td>9.936045</td>\n",
              "      <td>0.0958</td>\n",
              "    </tr>\n",
              "    <tr>\n",
              "      <th>12</th>\n",
              "      <td>9.699267</td>\n",
              "      <td>0.098982</td>\n",
              "      <td>9.936045</td>\n",
              "      <td>0.0958</td>\n",
              "    </tr>\n",
              "    <tr>\n",
              "      <th>13</th>\n",
              "      <td>9.699274</td>\n",
              "      <td>0.098982</td>\n",
              "      <td>9.936045</td>\n",
              "      <td>0.0958</td>\n",
              "    </tr>\n",
              "    <tr>\n",
              "      <th>14</th>\n",
              "      <td>9.699279</td>\n",
              "      <td>0.098982</td>\n",
              "      <td>9.936045</td>\n",
              "      <td>0.0958</td>\n",
              "    </tr>\n",
              "    <tr>\n",
              "      <th>15</th>\n",
              "      <td>9.699268</td>\n",
              "      <td>0.098982</td>\n",
              "      <td>9.936045</td>\n",
              "      <td>0.0958</td>\n",
              "    </tr>\n",
              "    <tr>\n",
              "      <th>16</th>\n",
              "      <td>9.699276</td>\n",
              "      <td>0.098982</td>\n",
              "      <td>9.936045</td>\n",
              "      <td>0.0958</td>\n",
              "    </tr>\n",
              "    <tr>\n",
              "      <th>17</th>\n",
              "      <td>9.699277</td>\n",
              "      <td>0.098982</td>\n",
              "      <td>9.936045</td>\n",
              "      <td>0.0958</td>\n",
              "    </tr>\n",
              "    <tr>\n",
              "      <th>18</th>\n",
              "      <td>9.699275</td>\n",
              "      <td>0.098982</td>\n",
              "      <td>9.936045</td>\n",
              "      <td>0.0958</td>\n",
              "    </tr>\n",
              "    <tr>\n",
              "      <th>19</th>\n",
              "      <td>9.699269</td>\n",
              "      <td>0.098982</td>\n",
              "      <td>9.936045</td>\n",
              "      <td>0.0958</td>\n",
              "    </tr>\n",
              "    <tr>\n",
              "      <th>20</th>\n",
              "      <td>9.699271</td>\n",
              "      <td>0.098982</td>\n",
              "      <td>9.936045</td>\n",
              "      <td>0.0958</td>\n",
              "    </tr>\n",
              "    <tr>\n",
              "      <th>21</th>\n",
              "      <td>9.699277</td>\n",
              "      <td>0.098982</td>\n",
              "      <td>9.936045</td>\n",
              "      <td>0.0958</td>\n",
              "    </tr>\n",
              "    <tr>\n",
              "      <th>22</th>\n",
              "      <td>9.699273</td>\n",
              "      <td>0.098982</td>\n",
              "      <td>9.936045</td>\n",
              "      <td>0.0958</td>\n",
              "    </tr>\n",
              "    <tr>\n",
              "      <th>23</th>\n",
              "      <td>9.699279</td>\n",
              "      <td>0.098982</td>\n",
              "      <td>9.936045</td>\n",
              "      <td>0.0958</td>\n",
              "    </tr>\n",
              "    <tr>\n",
              "      <th>24</th>\n",
              "      <td>9.699279</td>\n",
              "      <td>0.098982</td>\n",
              "      <td>9.936045</td>\n",
              "      <td>0.0958</td>\n",
              "    </tr>\n",
              "    <tr>\n",
              "      <th>25</th>\n",
              "      <td>9.699270</td>\n",
              "      <td>0.098982</td>\n",
              "      <td>9.936045</td>\n",
              "      <td>0.0958</td>\n",
              "    </tr>\n",
              "    <tr>\n",
              "      <th>26</th>\n",
              "      <td>9.699279</td>\n",
              "      <td>0.098982</td>\n",
              "      <td>9.936045</td>\n",
              "      <td>0.0958</td>\n",
              "    </tr>\n",
              "    <tr>\n",
              "      <th>27</th>\n",
              "      <td>9.699275</td>\n",
              "      <td>0.098982</td>\n",
              "      <td>9.936045</td>\n",
              "      <td>0.0958</td>\n",
              "    </tr>\n",
              "    <tr>\n",
              "      <th>28</th>\n",
              "      <td>9.699269</td>\n",
              "      <td>0.098982</td>\n",
              "      <td>9.936045</td>\n",
              "      <td>0.0958</td>\n",
              "    </tr>\n",
              "    <tr>\n",
              "      <th>29</th>\n",
              "      <td>9.699277</td>\n",
              "      <td>0.098982</td>\n",
              "      <td>9.936045</td>\n",
              "      <td>0.0958</td>\n",
              "    </tr>\n",
              "  </tbody>\n",
              "</table>\n",
              "</div>\n",
              "      <button class=\"colab-df-convert\" onclick=\"convertToInteractive('df-72cf5e38-29e2-4a3c-82c9-a8c941f02375')\"\n",
              "              title=\"Convert this dataframe to an interactive table.\"\n",
              "              style=\"display:none;\">\n",
              "        \n",
              "  <svg xmlns=\"http://www.w3.org/2000/svg\" height=\"24px\"viewBox=\"0 0 24 24\"\n",
              "       width=\"24px\">\n",
              "    <path d=\"M0 0h24v24H0V0z\" fill=\"none\"/>\n",
              "    <path d=\"M18.56 5.44l.94 2.06.94-2.06 2.06-.94-2.06-.94-.94-2.06-.94 2.06-2.06.94zm-11 1L8.5 8.5l.94-2.06 2.06-.94-2.06-.94L8.5 2.5l-.94 2.06-2.06.94zm10 10l.94 2.06.94-2.06 2.06-.94-2.06-.94-.94-2.06-.94 2.06-2.06.94z\"/><path d=\"M17.41 7.96l-1.37-1.37c-.4-.4-.92-.59-1.43-.59-.52 0-1.04.2-1.43.59L10.3 9.45l-7.72 7.72c-.78.78-.78 2.05 0 2.83L4 21.41c.39.39.9.59 1.41.59.51 0 1.02-.2 1.41-.59l7.78-7.78 2.81-2.81c.8-.78.8-2.07 0-2.86zM5.41 20L4 18.59l7.72-7.72 1.47 1.35L5.41 20z\"/>\n",
              "  </svg>\n",
              "      </button>\n",
              "      \n",
              "  <style>\n",
              "    .colab-df-container {\n",
              "      display:flex;\n",
              "      flex-wrap:wrap;\n",
              "      gap: 12px;\n",
              "    }\n",
              "\n",
              "    .colab-df-convert {\n",
              "      background-color: #E8F0FE;\n",
              "      border: none;\n",
              "      border-radius: 50%;\n",
              "      cursor: pointer;\n",
              "      display: none;\n",
              "      fill: #1967D2;\n",
              "      height: 32px;\n",
              "      padding: 0 0 0 0;\n",
              "      width: 32px;\n",
              "    }\n",
              "\n",
              "    .colab-df-convert:hover {\n",
              "      background-color: #E2EBFA;\n",
              "      box-shadow: 0px 1px 2px rgba(60, 64, 67, 0.3), 0px 1px 3px 1px rgba(60, 64, 67, 0.15);\n",
              "      fill: #174EA6;\n",
              "    }\n",
              "\n",
              "    [theme=dark] .colab-df-convert {\n",
              "      background-color: #3B4455;\n",
              "      fill: #D2E3FC;\n",
              "    }\n",
              "\n",
              "    [theme=dark] .colab-df-convert:hover {\n",
              "      background-color: #434B5C;\n",
              "      box-shadow: 0px 1px 3px 1px rgba(0, 0, 0, 0.15);\n",
              "      filter: drop-shadow(0px 1px 2px rgba(0, 0, 0, 0.3));\n",
              "      fill: #FFFFFF;\n",
              "    }\n",
              "  </style>\n",
              "\n",
              "      <script>\n",
              "        const buttonEl =\n",
              "          document.querySelector('#df-72cf5e38-29e2-4a3c-82c9-a8c941f02375 button.colab-df-convert');\n",
              "        buttonEl.style.display =\n",
              "          google.colab.kernel.accessAllowed ? 'block' : 'none';\n",
              "\n",
              "        async function convertToInteractive(key) {\n",
              "          const element = document.querySelector('#df-72cf5e38-29e2-4a3c-82c9-a8c941f02375');\n",
              "          const dataTable =\n",
              "            await google.colab.kernel.invokeFunction('convertToInteractive',\n",
              "                                                     [key], {});\n",
              "          if (!dataTable) return;\n",
              "\n",
              "          const docLinkHtml = 'Like what you see? Visit the ' +\n",
              "            '<a target=\"_blank\" href=https://colab.research.google.com/notebooks/data_table.ipynb>data table notebook</a>'\n",
              "            + ' to learn more about interactive tables.';\n",
              "          element.innerHTML = '';\n",
              "          dataTable['output_type'] = 'display_data';\n",
              "          await google.colab.output.renderOutput(dataTable, element);\n",
              "          const docLink = document.createElement('div');\n",
              "          docLink.innerHTML = docLinkHtml;\n",
              "          element.appendChild(docLink);\n",
              "        }\n",
              "      </script>\n",
              "    </div>\n",
              "  </div>\n",
              "  "
            ]
          },
          "metadata": {},
          "execution_count": 48
        }
      ]
    },
    {
      "cell_type": "code",
      "source": [
        "pd.DataFrame(history.history).plot(figsize=(8,5))\n",
        "plt.grid(True)\n",
        "plt.gca().set_ylim(0,1)\n",
        "plt.show()"
      ],
      "metadata": {
        "colab": {
          "base_uri": "https://localhost:8080/",
          "height": 451
        },
        "id": "q3fdOsYV3xgC",
        "outputId": "3c133c0b-7f59-41be-c05c-03cfb755c86e"
      },
      "execution_count": 49,
      "outputs": [
        {
          "output_type": "display_data",
          "data": {
            "text/plain": [
              "<Figure size 800x500 with 1 Axes>"
            ],
            "image/png": "[encoded data removed]"
          },
          "metadata": {}
        }
      ]
    }
  ]
}